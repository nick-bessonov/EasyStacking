{
 "cells": [
  {
   "cell_type": "markdown",
   "metadata": {},
   "source": [
    "### Реализация стекинга с использованием класса"
   ]
  },
  {
   "cell_type": "code",
   "execution_count": 1,
   "metadata": {},
   "outputs": [],
   "source": [
    "import pandas as pd\n",
    "from sklearn.metrics import roc_auc_score\n",
    "from sklearn.model_selection import train_test_split"
   ]
  },
  {
   "cell_type": "code",
   "execution_count": 3,
   "metadata": {},
   "outputs": [],
   "source": [
    "from xgboost import XGBClassifier, XGBRegressor\n",
    "from sklearn.neighbors import KNeighborsClassifier\n",
    "from sklearn.ensemble import RandomForestClassifier\n",
    "from lightgbm import LGBMClassifier\n",
    "\n",
    "from sklearn.linear_model import LogisticRegression\n",
    "\n",
    "from sklearn.model_selection import cross_val_predict\n",
    "\n",
    "from sklearn.datasets import make_classification"
   ]
  },
  {
   "cell_type": "code",
   "execution_count": 4,
   "metadata": {},
   "outputs": [],
   "source": [
    "from easy_stacking import EasyStacking"
   ]
  },
  {
   "cell_type": "code",
   "execution_count": 5,
   "metadata": {},
   "outputs": [],
   "source": [
    "# Код для автообновления функций (запустить один раз)\n",
    "%load_ext autoreload\n",
    "%autoreload 2"
   ]
  },
  {
   "cell_type": "code",
   "execution_count": 21,
   "metadata": {},
   "outputs": [],
   "source": [
    "df = pd.read_csv('data\\\\train.csv')\n",
    "# test = pd.read_csv('test.csv')\n",
    "\n",
    "train_cols = [i for i in df.columns if i not in ['def', 'id']]\n",
    "\n",
    "train = df[train_cols]\n",
    "y = df[\"def\"] * 100\n",
    "\n",
    "X_train, X_test, y_train, y_test = train_test_split(train, y, test_size=0.25, stratify=y, shuffle=True, random_state=777)"
   ]
  },
  {
   "cell_type": "code",
   "execution_count": 22,
   "metadata": {},
   "outputs": [
    {
     "data": {
      "text/plain": [
       "XGBRegressor(base_score=0.5, booster='gbtree', colsample_bylevel=1,\n",
       "             colsample_bynode=1, colsample_bytree=1, gamma=0, gpu_id=-1,\n",
       "             importance_type='gain', interaction_constraints='',\n",
       "             learning_rate=0.300000012, max_delta_step=0, max_depth=6,\n",
       "             min_child_weight=1, missing=nan, monotone_constraints='()',\n",
       "             n_estimators=100, n_jobs=0, num_parallel_tree=1, random_state=0,\n",
       "             reg_alpha=0, reg_lambda=1, scale_pos_weight=1, subsample=1,\n",
       "             tree_method='exact', validate_parameters=1, verbosity=None)"
      ]
     },
     "execution_count": 22,
     "metadata": {},
     "output_type": "execute_result"
    }
   ],
   "source": [
    "xgb_clas = XGBClassifier()\n",
    "xgb_reg = XGBRegressor()\n",
    "\n",
    "xgb_clas.fit(X_train, y_train)\n",
    "xgb_reg.fit(X_train, y_train)"
   ]
  },
  {
   "cell_type": "code",
   "execution_count": 28,
   "metadata": {},
   "outputs": [
    {
     "data": {
      "text/plain": [
       "0.6512380371208253"
      ]
     },
     "execution_count": 28,
     "metadata": {},
     "output_type": "execute_result"
    }
   ],
   "source": [
    "roc_auc_score(y_test, xgb_clas.predict_proba(X_test)[:, 1])\n",
    "# roc_auc_score(y_test, xgb_clas.predict(X_test))"
   ]
  },
  {
   "cell_type": "code",
   "execution_count": 246,
   "metadata": {},
   "outputs": [],
   "source": [
    "lgbm_params = {'booster': 'gbtree',\n",
    "               'learning_rate': 0.06,\n",
    "               'max_depth': 4,\n",
    "#                'n_estimators': 130,\n",
    "               'random_state': 777,\n",
    "              }\n",
    "\n",
    "logreg_params = {'penalty': 'l1',\n",
    "                 'solver': 'liblinear', # 'lbfgs'\n",
    "                 'C': 0.1,\n",
    "                 'random_state': 777\n",
    "                }\n",
    "\n",
    "rnd_params = {'max_depth': 6,\n",
    "              'n_estimators': 200,\n",
    "              'random_state': 777\n",
    "             }\n",
    "\n",
    "knn_params ={'n_neighbors': 3,\n",
    "             'algorithm': 'auto', # 'auto', 'kd_tree', 'brute'\n",
    "             'p': 2,\n",
    "            }"
   ]
  },
  {
   "cell_type": "code",
   "execution_count": 282,
   "metadata": {},
   "outputs": [
    {
     "data": {
      "text/plain": [
       "EasyStacking(meta_model=LogisticRegression(C=0.1, class_weight=None, dual=False,\n",
       "                                           fit_intercept=True,\n",
       "                                           intercept_scaling=1, l1_ratio=None,\n",
       "                                           max_iter=100, multi_class='auto',\n",
       "                                           n_jobs=None, penalty='l1',\n",
       "                                           random_state=777, solver='liblinear',\n",
       "                                           tol=0.0001, verbose=0,\n",
       "                                           warm_start=False),\n",
       "             models=[KNeighborsClassifier(algorithm='auto', leaf_size=30,\n",
       "                                          metric='minkowski',\n",
       "                                          metric_pa...\n",
       "                                    class_weight=None, colsample_bytree=1.0,\n",
       "                                    importance_type='split', learning_rate=0.06,\n",
       "                                    max_depth=4, min_child_samples=20,\n",
       "                                    min_child_weight=0.001, min_split_gain=0.0,\n",
       "                                    n_estimators=100, n_jobs=-1, num_leaves=31,\n",
       "                                    objective=None, random_state=777,\n",
       "                                    reg_alpha=0.0, reg_lambda=0.0, silent=True,\n",
       "                                    subsample=1.0, subsample_for_bin=200000,\n",
       "                                    subsample_freq=0)],\n",
       "             type_base_models='classification')"
      ]
     },
     "execution_count": 282,
     "metadata": {},
     "output_type": "execute_result"
    }
   ],
   "source": [
    "knn = KNeighborsClassifier(**knn_params)\n",
    "rfc = RandomForestClassifier(**rnd_params)\n",
    "lgbm = LGBMClassifier(**lgbm_params)\n",
    "# log = LogisticRegression()\n",
    "\n",
    "base_models = [knn, rfc, lgbm]\n",
    "meta_model = LogisticRegression(**logreg_params)\n",
    "type_base_models = 'classification' # типа базовых алгоритмов, либо 'regression'\n",
    "\n",
    "stacking = EasyStacking(base_models, meta_model, type_base_models)\n",
    "\n",
    "stacking.fit(X_train, y_train, p=0, cv=3, err=1, random_state=777)\n",
    "# p - % деление выборки, для блендинга; 0 если нужен стекинг\n",
    "# cv - кол-во фолдов для стекинга\n",
    "# err - вес с которым добавляется нормальный шум к каждому метапризнаку"
   ]
  },
  {
   "cell_type": "code",
   "execution_count": 283,
   "metadata": {},
   "outputs": [
    {
     "data": {
      "text/plain": [
       "0.674993847624498"
      ]
     },
     "execution_count": 283,
     "metadata": {},
     "output_type": "execute_result"
    }
   ],
   "source": [
    "roc_auc_score(y_test, stacking.predict_proba(X_test))\n",
    "\n",
    "# base: lgbm, rnd | meta: logreg | rocauc = 0.67904\n",
    "# base: lgbm, rnd | meta: logreg | rocauc = 0.67916\n"
   ]
  },
  {
   "cell_type": "code",
   "execution_count": 286,
   "metadata": {},
   "outputs": [
    {
     "name": "stdout",
     "output_type": "stream",
     "text": [
      "0.6781864957597353\n",
      "0.6784540648099402\n",
      "0.6797029838625956\n",
      "0.6811060416590914\n",
      "0.6822867180884056\n",
      "0.6828322638475877\n",
      "0.6831177498799825\n",
      "0.6824756368564971\n",
      "0.6825697010129946\n",
      "0.6825023805872659\n"
     ]
    }
   ],
   "source": [
    "# Несколько блендингов подряд\n",
    "\n",
    "blending = EasyStacking(base_models, meta_model, type_base_models)\n",
    "predict_sum = 0\n",
    "\n",
    "for t in range(1, 11):\n",
    "    \n",
    "    blending.fit(X_train, y_train, p=0.4, cv=0, err=0, random_state=None)\n",
    "    \n",
    "    predict_sum += blending.predict_proba(X_test)\n",
    "    \n",
    "    auc = roc_auc_score(y_test, predict_sum / t)\n",
    "    print (auc)"
   ]
  },
  {
   "cell_type": "code",
   "execution_count": 263,
   "metadata": {},
   "outputs": [],
   "source": [
    "# X, y = make_classification(100) # Построить на рандомной классификации"
   ]
  }
 ],
 "metadata": {
  "kernelspec": {
   "display_name": "Python 3",
   "language": "python",
   "name": "python3"
  },
  "language_info": {
   "codemirror_mode": {
    "name": "ipython",
    "version": 3
   },
   "file_extension": ".py",
   "mimetype": "text/x-python",
   "name": "python",
   "nbconvert_exporter": "python",
   "pygments_lexer": "ipython3",
   "version": "3.8.3"
  }
 },
 "nbformat": 4,
 "nbformat_minor": 4
}
